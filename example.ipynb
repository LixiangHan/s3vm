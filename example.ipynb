{
 "cells": [
  {
   "cell_type": "code",
   "execution_count": 1,
   "id": "7428423f",
   "metadata": {},
   "outputs": [],
   "source": [
    "import solvers\n",
    "import data\n",
    "from sklearn.metrics import accuracy_score\n",
    "from sklearn import svm\n",
    "from sklearn.model_selection import GridSearchCV\n",
    "import time"
   ]
  },
  {
   "cell_type": "code",
   "execution_count": 2,
   "id": "1c6b7024",
   "metadata": {},
   "outputs": [
    {
     "name": "stdout",
     "output_type": "stream",
     "text": [
      "    feat1   feat2   feat3   feat4   feat5   feat6   feat7   feat8   feat9  \\\n",
      "0  0.0200  0.0371  0.0428  0.0207  0.0954  0.0986  0.1539  0.1601  0.3109   \n",
      "1  0.0453  0.0523  0.0843  0.0689  0.1183  0.2583  0.2156  0.3481  0.3337   \n",
      "2  0.0262  0.0582  0.1099  0.1083  0.0974  0.2280  0.2431  0.3771  0.5598   \n",
      "3  0.0100  0.0171  0.0623  0.0205  0.0205  0.0368  0.1098  0.1276  0.0598   \n",
      "4  0.0762  0.0666  0.0481  0.0394  0.0590  0.0649  0.1209  0.2467  0.3564   \n",
      "\n",
      "   feat10  ...  feat52  feat53  feat54  feat55  feat56  feat57  feat58  \\\n",
      "0  0.2111  ...  0.0027  0.0065  0.0159  0.0072  0.0167  0.0180  0.0084   \n",
      "1  0.2872  ...  0.0084  0.0089  0.0048  0.0094  0.0191  0.0140  0.0049   \n",
      "2  0.6194  ...  0.0232  0.0166  0.0095  0.0180  0.0244  0.0316  0.0164   \n",
      "3  0.1264  ...  0.0121  0.0036  0.0150  0.0085  0.0073  0.0050  0.0044   \n",
      "4  0.4459  ...  0.0031  0.0054  0.0105  0.0110  0.0015  0.0072  0.0048   \n",
      "\n",
      "   feat59  feat60  class  \n",
      "0  0.0090  0.0032     -1  \n",
      "1  0.0052  0.0044     -1  \n",
      "2  0.0095  0.0078     -1  \n",
      "3  0.0040  0.0117     -1  \n",
      "4  0.0107  0.0094     -1  \n",
      "\n",
      "[5 rows x 61 columns]\n",
      " 1    111\n",
      "-1     97\n",
      "Name: class, dtype: int64\n"
     ]
    }
   ],
   "source": [
    "# load model\n",
    "labled_train_x, labled_train_y, unlabled_train_x, unlabled_train_y, val_x, val_y, test_x, test_y = data.sonar.load_data(unlabeled_size=0.7, random_state=1)"
   ]
  },
  {
   "cell_type": "code",
   "execution_count": 3,
   "id": "54606343",
   "metadata": {},
   "outputs": [
    {
     "name": "stdout",
     "output_type": "stream",
     "text": [
      "S3VM - Time cost = 0.2671 s, Test acc = 0.6905\n"
     ]
    }
   ],
   "source": [
    "model = solvers.miqp.MIQPS3VM(time_limit=2000) # set time limitation to 1000 secs\n",
    "time_cost = model.fit(labled_train_x, labled_train_y, unlabled_train_x, C=100, M=1) # train S3VM\n",
    "y_pred = model.predict(test_x) # predict\n",
    "test_acc = accuracy_score(test_y, y_pred)\n",
    "print('S3VM - Time cost = %.4f s, Test acc = %.4f' % (time_cost, test_acc))"
   ]
  },
  {
   "cell_type": "code",
   "execution_count": 4,
   "id": "dbc77f99",
   "metadata": {},
   "outputs": [
    {
     "name": "stdout",
     "output_type": "stream",
     "text": [
      "SVM - Time cost = 0.0267 s, Test acc = 0.6667\n"
     ]
    }
   ],
   "source": [
    "parameters = {'kernel':['linear'], 'C':[0.1, 1, 10, 100, 1000]}\n",
    "svc = svm.SVC()\n",
    "clf = GridSearchCV(svc, parameters)\n",
    "time_start = time.time()\n",
    "clf.fit(labled_train_x, labled_train_y)\n",
    "time_end = time.time()\n",
    "y_pred = clf.predict(test_x)\n",
    "test_acc = accuracy_score(test_y, y_pred)\n",
    "print('SVM - Time cost = %.4f s, Test acc = %.4f' % (time_end - time_start, test_acc))"
   ]
  },
  {
   "cell_type": "code",
   "execution_count": null,
   "id": "9d7bc976",
   "metadata": {},
   "outputs": [],
   "source": []
  }
 ],
 "metadata": {
  "kernelspec": {
   "display_name": "cvx",
   "language": "python",
   "name": "cvx"
  },
  "language_info": {
   "codemirror_mode": {
    "name": "ipython",
    "version": 3
   },
   "file_extension": ".py",
   "mimetype": "text/x-python",
   "name": "python",
   "nbconvert_exporter": "python",
   "pygments_lexer": "ipython3",
   "version": "3.7.11"
  }
 },
 "nbformat": 4,
 "nbformat_minor": 5
}
